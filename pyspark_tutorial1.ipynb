{
 "cells": [
  {
   "cell_type": "code",
   "execution_count": 1,
   "id": "d927db60-6e67-4c3c-ba45-8671d62b4dbb",
   "metadata": {},
   "outputs": [],
   "source": [
    "import findspark\n",
    "findspark.init()"
   ]
  },
  {
   "cell_type": "code",
   "execution_count": 2,
   "id": "431082ef-79b3-46f7-b32d-0fef942093e4",
   "metadata": {},
   "outputs": [],
   "source": [
    "from pyspark.sql import SparkSession\n",
    "spark=SparkSession.builder.appName(\"Local RESTWS ML\").master(\"local[*]\").config(\"spark.ui.port\", \"11112\").getOrCreate()\n",
    "sc=spark.sparkContext"
   ]
  },
  {
   "cell_type": "markdown",
   "id": "3d282844-34e8-45a4-a7fe-60ffa22aafc3",
   "metadata": {},
   "source": [
    "#  <font color='red'>OR</font>"
   ]
  },
  {
   "cell_type": "code",
   "execution_count": 2,
   "id": "aee448d2-9069-4da2-bfff-c6fcf48fcf80",
   "metadata": {
    "tags": []
   },
   "outputs": [],
   "source": [
    "from pyspark.sql import SparkSession\n",
    "import pyspark\n",
    "\n",
    "number_cores = 8\n",
    "memory_gb = 24\n",
    "conf = (\n",
    "    pyspark.SparkConf()\n",
    "        .setMaster('local[{}]'.format(number_cores))\n",
    "        .set('spark.driver.memory', '{}g'.format(memory_gb))\n",
    "        .set(\"spark.ui.port\", \"11112\")\n",
    ")\n",
    "sc = pyspark.SparkContext(conf=conf)"
   ]
  },
  {
   "cell_type": "code",
   "execution_count": 3,
   "id": "46860cdc-a9a7-4fd2-bdf5-3c91a6d0e5ae",
   "metadata": {},
   "outputs": [
    {
     "data": {
      "text/html": [
       "\n",
       "            <div>\n",
       "                <p><b>SparkSession - in-memory</b></p>\n",
       "                \n",
       "        <div>\n",
       "            <p><b>SparkContext</b></p>\n",
       "\n",
       "            <p><a href=\"http://172.17.96.1:11112\">Spark UI</a></p>\n",
       "\n",
       "            <dl>\n",
       "              <dt>Version</dt>\n",
       "                <dd><code>v3.0.3</code></dd>\n",
       "              <dt>Master</dt>\n",
       "                <dd><code>local[*]</code></dd>\n",
       "              <dt>AppName</dt>\n",
       "                <dd><code>Local RESTWS ML</code></dd>\n",
       "            </dl>\n",
       "        </div>\n",
       "        \n",
       "            </div>\n",
       "        "
      ],
      "text/plain": [
       "<pyspark.sql.session.SparkSession at 0x15b15a3b070>"
      ]
     },
     "execution_count": 3,
     "metadata": {},
     "output_type": "execute_result"
    }
   ],
   "source": [
    "spark"
   ]
  },
  {
   "cell_type": "markdown",
   "id": "595eed23-e242-413d-974d-f6ffd70b1776",
   "metadata": {},
   "source": [
    "# Ch.4"
   ]
  },
  {
   "cell_type": "markdown",
   "id": "8713b731-f454-4c77-9434-416dbc32e42c",
   "metadata": {},
   "source": [
    "## Basic actions and transformations"
   ]
  },
  {
   "cell_type": "code",
   "execution_count": 33,
   "id": "7f298364-5fa9-439c-bd61-3cf1f9acb86c",
   "metadata": {},
   "outputs": [
    {
     "data": {
      "text/plain": [
       "[2.3, 3.4, 4.3, 2.4, 2.3, 4.0]"
      ]
     },
     "execution_count": 33,
     "metadata": {},
     "output_type": "execute_result"
    }
   ],
   "source": [
    "pythonList = [2.3,3.4,4.3,2.4,2.3,4.0]\n",
    "pythonList"
   ]
  },
  {
   "cell_type": "code",
   "execution_count": 34,
   "id": "e8707912-62a5-4cea-addd-047be9845b9e",
   "metadata": {},
   "outputs": [],
   "source": [
    "#parallelization\n",
    "parPythonData = sc.parallelize(pythonList,2) #the second argument indicates the number of distributed chunks of data we want"
   ]
  },
  {
   "cell_type": "markdown",
   "id": "419e5a83-f0b1-4423-bf83-3f405cc622a8",
   "metadata": {},
   "source": [
    "* actions"
   ]
  },
  {
   "cell_type": "code",
   "execution_count": 35,
   "id": "38020e15-7f7c-4e12-9c84-17ea568196d0",
   "metadata": {},
   "outputs": [
    {
     "data": {
      "text/plain": [
       "[2.3, 3.4, 4.3, 2.4, 2.3, 4.0]"
      ]
     },
     "execution_count": 35,
     "metadata": {},
     "output_type": "execute_result"
    }
   ],
   "source": [
    "#get all the data on the driver\n",
    "parPythonData.collect()"
   ]
  },
  {
   "cell_type": "code",
   "execution_count": 37,
   "id": "1dc0a667-b143-4002-8942-3100a787fb0b",
   "metadata": {},
   "outputs": [
    {
     "data": {
      "text/plain": [
       "True"
      ]
     },
     "execution_count": 37,
     "metadata": {},
     "output_type": "execute_result"
    }
   ],
   "source": [
    "2.3 in parPythonData.collect()"
   ]
  },
  {
   "cell_type": "code",
   "execution_count": 13,
   "id": "c8959d01-728a-4c4b-a790-38875b0c94ab",
   "metadata": {},
   "outputs": [
    {
     "data": {
      "text/plain": [
       "2.3"
      ]
     },
     "execution_count": 13,
     "metadata": {},
     "output_type": "execute_result"
    }
   ],
   "source": [
    "#get the first element\n",
    "parPythonData.first()"
   ]
  },
  {
   "cell_type": "code",
   "execution_count": 14,
   "id": "278d69cb-7ec6-4fba-9528-abb379a37e3a",
   "metadata": {},
   "outputs": [
    {
     "data": {
      "text/plain": [
       "[2.3, 3.4]"
      ]
     },
     "execution_count": 14,
     "metadata": {},
     "output_type": "execute_result"
    }
   ],
   "source": [
    "#get the first two elements\n",
    "parPythonData.take(2)"
   ]
  },
  {
   "cell_type": "code",
   "execution_count": 15,
   "id": "5a26636d-cdb5-4984-9c45-c62282a2581e",
   "metadata": {},
   "outputs": [
    {
     "data": {
      "text/plain": [
       "2"
      ]
     },
     "execution_count": 15,
     "metadata": {},
     "output_type": "execute_result"
    }
   ],
   "source": [
    "#Getting the Number of Partitions in the RDD\n",
    "parPythonData.getNumPartitions()"
   ]
  },
  {
   "cell_type": "code",
   "execution_count": 35,
   "id": "02ac7f40-9d33-4673-a469-fdb5eec7c19d",
   "metadata": {},
   "outputs": [],
   "source": [
    "spark.stop()"
   ]
  },
  {
   "cell_type": "markdown",
   "id": "02e31562-f15c-458f-8c77-d90ec3e3e5bb",
   "metadata": {},
   "source": [
    "* transformations"
   ]
  },
  {
   "cell_type": "code",
   "execution_count": 4,
   "id": "682c6b85-bfa9-4c24-974e-5a896b4a8ab3",
   "metadata": {},
   "outputs": [
    {
     "data": {
      "text/plain": [
       "[59, 57.2, 53.6, 55.4, 51.8, 53.6, 55.4]"
      ]
     },
     "execution_count": 4,
     "metadata": {},
     "output_type": "execute_result"
    }
   ],
   "source": [
    "#fahrenheit to celcius\n",
    "tempData = [59, 57.2, 53.6, 55.4, 51.8, 53.6, 55.4]\n",
    "parTempData = sc.parallelize(tempData,2)\n",
    "parTempData.collect()"
   ]
  },
  {
   "cell_type": "code",
   "execution_count": 5,
   "id": "af83ba19-af31-439e-a9d5-c45ec96b4972",
   "metadata": {},
   "outputs": [],
   "source": [
    "def FahrenheitToCentigrade(temperature):\n",
    "    centigrade = (temperature-32)*5/9\n",
    "    return centigrade"
   ]
  },
  {
   "cell_type": "code",
   "execution_count": 6,
   "id": "16c32bf2-264d-4746-b386-0b8d2550e5a4",
   "metadata": {},
   "outputs": [],
   "source": [
    "parCentigradeData = parTempData.map(FahrenheitToCentigrade)"
   ]
  },
  {
   "cell_type": "code",
   "execution_count": 7,
   "id": "5d422f65-d487-4597-bbe3-7c64aebc4e0c",
   "metadata": {},
   "outputs": [
    {
     "data": {
      "text/plain": [
       "[15.0, 14.000000000000002, 12.0, 13.0, 10.999999999999998, 12.0, 13.0]"
      ]
     },
     "execution_count": 7,
     "metadata": {},
     "output_type": "execute_result"
    }
   ],
   "source": [
    "parCentigradeData.collect()"
   ]
  },
  {
   "cell_type": "code",
   "execution_count": 8,
   "id": "518eb46a-1e01-4d9f-a48c-4b84aafd10a1",
   "metadata": {},
   "outputs": [
    {
     "data": {
      "text/plain": [
       "[15.0, 14.000000000000002, 13.0, 13.0]"
      ]
     },
     "execution_count": 8,
     "metadata": {},
     "output_type": "execute_result"
    }
   ],
   "source": [
    "#Filtering \n",
    "#Temperatures Greater than 13 C\n",
    "\n",
    "#define a predicate\n",
    "def tempMoreThanThirteen(temperature):\n",
    "    return temperature >=13\n",
    "\n",
    "filteredTemprature = parCentigradeData.filter(tempMoreThanThirteen)\n",
    "filteredTemprature.collect()"
   ]
  },
  {
   "cell_type": "code",
   "execution_count": 9,
   "id": "7e54f880-cd83-45c8-b512-074d44114a17",
   "metadata": {},
   "outputs": [
    {
     "data": {
      "text/plain": [
       "[15.0, 14.000000000000002, 13.0, 13.0]"
      ]
     },
     "execution_count": 9,
     "metadata": {},
     "output_type": "execute_result"
    }
   ],
   "source": [
    "#lambda function instead of predicate\n",
    "filteredTemprature = parCentigradeData.filter(lambda x : x>=13)\n",
    "filteredTemprature.collect()"
   ]
  },
  {
   "cell_type": "markdown",
   "id": "8300c834-5f4e-469d-87f9-644a6a71171d",
   "metadata": {},
   "source": [
    "## Basic Data Manipulation (average, ordering, filtering) (by line)"
   ]
  },
  {
   "cell_type": "code",
   "execution_count": 10,
   "id": "ccea77f8-d099-45dd-bfc9-db9a517f0928",
   "metadata": {},
   "outputs": [],
   "source": [
    "# read in Student Grades\n",
    "\n",
    "studentMarksData = [[\"si1\",\"year1\",62.08,62.4],\n",
    "                    [\"si1\",\"year2\",75.94,76.75],\n",
    "                    [\"si2\",\"year1\",68.26,72.95],\n",
    "                    [\"si2\",\"year2\",85.49,75.8],\n",
    "                    [\"si3\",\"year1\",75.08,79.84],\n",
    "                    [\"si3\",\"year2\",54.98,87.72],\n",
    "                    [\"si4\",\"year1\",50.03,66.85],\n",
    "                    [\"si4\",\"year2\",71.26,69.77],\n",
    "                    [\"si5\",\"year1\",52.74,76.27],\n",
    "                    [\"si5\",\"year2\",50.39,68.58],\n",
    "                    [\"si6\",\"year1\",74.86,60.8],\n",
    "                    [\"si6\",\"year2\",58.29,62.38],\n",
    "                    [\"si7\",\"year1\",63.95,74.51],\n",
    "                    [\"si7\",\"year2\",66.69,56.92]]\n"
   ]
  },
  {
   "cell_type": "code",
   "execution_count": 11,
   "id": "fa5ae707-a79c-4b7c-afd4-849626cf54be",
   "metadata": {},
   "outputs": [],
   "source": [
    "studentMarksDataRDD = sc.parallelize(studentMarksData,4)"
   ]
  },
  {
   "cell_type": "markdown",
   "id": "97213f5f-3892-4349-a91a-3cb1191e908c",
   "metadata": {},
   "source": [
    "As we know, the collect() function takes the whole RDD to the driver. If the RDD\n",
    "size is very large, the driver may face a memory issue. In order to fetch k first elements of\n",
    "an RDD, we can use the take() function with n as input to take(). As an example, in the\n",
    "following line of code, we are fetching two elements of our RDD."
   ]
  },
  {
   "cell_type": "code",
   "execution_count": 12,
   "id": "67b38908-99e1-49ec-9807-6ff3fa7401e3",
   "metadata": {},
   "outputs": [
    {
     "data": {
      "text/plain": [
       "[['si1', 'year1', 62.08, 62.4], ['si1', 'year2', 75.94, 76.75]]"
      ]
     },
     "execution_count": 12,
     "metadata": {},
     "output_type": "execute_result"
    }
   ],
   "source": [
    "studentMarksDataRDD.take(2)"
   ]
  },
  {
   "cell_type": "code",
   "execution_count": null,
   "id": "ba4481c2-d38f-4480-856a-bb2abb35900e",
   "metadata": {},
   "outputs": [],
   "source": [
    "# Average grade over two semesters by student by year\n",
    "studentMarksMean = studentMarksDataRDD.map(lambda x : [x[0],x[1],(x[2]+x[3])/2])\n",
    "studentMarksMean.take(2)"
   ]
  },
  {
   "cell_type": "code",
   "execution_count": null,
   "id": "01ff9a21-4f0f-4aa1-8920-ec006295df8d",
   "metadata": {},
   "outputs": [],
   "source": [
    "# top 3 students by 2nd year average\n",
    "secondYearMarks = studentMarksMean.filter(lambda x : x[1]=='year2')\n",
    "#secondYearMarks = studentMarksMean.filter(lambda x : \"year2\" in x)\n",
    "secondYearMarks.take(3)"
   ]
  },
  {
   "cell_type": "code",
   "execution_count": null,
   "id": "69d10d8f-274d-458a-9db3-cc03a838a4c7",
   "metadata": {},
   "outputs": [],
   "source": [
    "#we can now either sort the averages and keep the first 3 entries:\n",
    "sortedMarksData = secondYearMarks.sortBy(keyfunc = lambda x : -x[2])\n",
    "sortedMarksData.take(3)"
   ]
  },
  {
   "cell_type": "code",
   "execution_count": null,
   "id": "a5138ab2-8e6e-41db-a764-f1e28602c4f3",
   "metadata": {},
   "outputs": [],
   "source": [
    "#In order to get top-three data, we are sorting the whole list. We can optimize this by using the takeOrdered() function\n",
    "#This function takes two arguments: the number of elements we require, and key, which uses a lambda function to determine how to take the data out.\n",
    "\n",
    "topThreeStudents = secondYearMarks.takeOrdered(num=3, key = lambda x :-x[2])\n",
    "topThreeStudents\n",
    "\n",
    "# !!! In order to print the result, we are not using the collect() function to get the data.\n",
    "#Remember that transformation creates another RDD, so we require the collect() function\n",
    "#to collect data. But an action will directly fetch the data to the driver, and collect() is not\n",
    "#required. So you can conclude that the takeOrdered() function is an action."
   ]
  },
  {
   "cell_type": "code",
   "execution_count": null,
   "id": "33f9f3d7-d769-402b-b019-631483b428e0",
   "metadata": {},
   "outputs": [],
   "source": [
    "#Finding the Bottom Three Students\n",
    "bottomThreeStudents = secondYearMarks.takeOrdered(num=3, key = lambda x : x[2])\n",
    "bottomThreeStudents"
   ]
  },
  {
   "cell_type": "code",
   "execution_count": null,
   "id": "a866518b-e1b7-49d0-a975-a86778001ce1",
   "metadata": {},
   "outputs": [],
   "source": [
    "# students with more than 80% average in 2nd year\n",
    "moreThan80Marks = secondYearMarks.filter(lambda x : x[2] > 80)\n",
    "moreThan80Marks.collect()"
   ]
  },
  {
   "cell_type": "markdown",
   "id": "4071010e-ab21-4caf-b722-b7a4a25d8b0e",
   "metadata": {},
   "source": [
    "## Run Set Operations"
   ]
  },
  {
   "cell_type": "code",
   "execution_count": null,
   "id": "a21c0ee8-c469-4841-bc3e-f7bc0c6faf60",
   "metadata": {},
   "outputs": [],
   "source": [
    "#list of research projects each year\n",
    "data2001 = ['RIN1', 'RIN2', 'RIN3', 'RIN4', 'RIN5', 'RIN6', 'RIN7']\n",
    "data2002 = ['RIN3', 'RIN4', 'RIN7', 'RIN8', 'RIN9']\n",
    "data2003 = ['RIN4', 'RIN8', 'RIN10', 'RIN11', 'RIN12']"
   ]
  },
  {
   "cell_type": "code",
   "execution_count": null,
   "id": "fb0b6fd7-f956-4823-ac33-d64b9eb18863",
   "metadata": {},
   "outputs": [],
   "source": [
    "parData2001 = sc.parallelize(data2001,2)\n",
    "parData2002 = sc.parallelize(data2002,2)\n",
    "parData2003 = sc.parallelize(data2003,2)"
   ]
  },
  {
   "cell_type": "code",
   "execution_count": null,
   "id": "e2368195-fe44-4f47-b5a5-4dc1a0e3b00e",
   "metadata": {},
   "outputs": [],
   "source": [
    "#get all unique projects\n",
    "unionOf20012002 = parData2001.union(parData2002)\n",
    "allResearchs = unionOf20012002.union(parData2003)\n",
    "allUniqueResearchs = allResearchs.distinct()\n",
    "allUniqueResearchs.collect()\n",
    "allResearchs.distinct().count()"
   ]
  },
  {
   "cell_type": "code",
   "execution_count": null,
   "id": "522702bf-ffb2-4d0a-8aba-c32b660ae280",
   "metadata": {},
   "outputs": [],
   "source": [
    "#in one go:\n",
    "parData2001.union(parData2002).union(parData2003).distinct().count()"
   ]
  },
  {
   "cell_type": "code",
   "execution_count": null,
   "id": "e92ed7f7-462a-4a65-9f42-564e55fdb118",
   "metadata": {},
   "outputs": [],
   "source": [
    "#Projects Completed the First Year\n",
    "firstYearCompletion = parData2001.subtract(parData2002)\n",
    "firstYearCompletion.collect()"
   ]
  },
  {
   "cell_type": "code",
   "execution_count": null,
   "id": "7244ced2-8088-4c5b-98f5-0f65e8fc606d",
   "metadata": {},
   "outputs": [],
   "source": [
    "#Projects Completed in the First Two Years\n",
    "parData2001.union(parData2002).subtract(parData2003).distinct().collect()"
   ]
  },
  {
   "cell_type": "code",
   "execution_count": null,
   "id": "7966bbc5-935f-4496-8cea-ee91f99356eb",
   "metadata": {},
   "outputs": [],
   "source": [
    "#Projects Started in 2001 and Continued Through 2003\n",
    "parData2001.intersection(parData2002).intersection(parData2003).collect()"
   ]
  },
  {
   "cell_type": "markdown",
   "id": "13368ae4-8c6d-4cb1-9771-e5fcd9fb2d57",
   "metadata": {},
   "source": [
    "## Summary Statistics"
   ]
  },
  {
   "cell_type": "code",
   "execution_count": null,
   "id": "662d2454-dbcc-4604-8553-0aa5a756bc9b",
   "metadata": {},
   "outputs": [],
   "source": [
    "airVelocityKMPH = [12,13,15,12,11,12,11]\n",
    "parVelocityKMPH = sc.parallelize(airVelocityKMPH,2)"
   ]
  },
  {
   "cell_type": "code",
   "execution_count": null,
   "id": "7f94679b-eadb-4428-90e3-8636354294f9",
   "metadata": {},
   "outputs": [],
   "source": [
    "parVelocityKMPH.count()"
   ]
  },
  {
   "cell_type": "code",
   "execution_count": null,
   "id": "c536f7a4-03bc-40b1-88ce-77473628b38e",
   "metadata": {},
   "outputs": [],
   "source": [
    "parVelocityKMPH.sum()"
   ]
  },
  {
   "cell_type": "code",
   "execution_count": null,
   "id": "9dc38fbb-8ed9-4b22-bca0-31e5aaf6e957",
   "metadata": {},
   "outputs": [],
   "source": [
    "parVelocityKMPH.mean()"
   ]
  },
  {
   "cell_type": "code",
   "execution_count": null,
   "id": "6ab2861c-bcb2-4c59-8340-df254b147e14",
   "metadata": {},
   "outputs": [],
   "source": [
    "parVelocityKMPH.variance()"
   ]
  },
  {
   "cell_type": "code",
   "execution_count": null,
   "id": "284030dd-aa96-4595-9bfd-406b486b0bbd",
   "metadata": {},
   "outputs": [],
   "source": [
    "parVelocityKMPH.sampleVariance()"
   ]
  },
  {
   "cell_type": "code",
   "execution_count": null,
   "id": "76956201-e982-433d-a370-a0f03b2b9546",
   "metadata": {},
   "outputs": [],
   "source": [
    "parVelocityKMPH.stdev()"
   ]
  },
  {
   "cell_type": "code",
   "execution_count": null,
   "id": "bcb4a3c7-f1b8-4b9d-9eac-638f814ed286",
   "metadata": {},
   "outputs": [],
   "source": [
    "parVelocityKMPH.sampleStdev()"
   ]
  },
  {
   "cell_type": "code",
   "execution_count": null,
   "id": "ce221530-6ac0-4565-a923-bc69ae47c557",
   "metadata": {},
   "outputs": [],
   "source": [
    "type(parVelocityKMPH.stats())"
   ]
  },
  {
   "cell_type": "code",
   "execution_count": null,
   "id": "951e07ab-847f-4ab0-ac34-fa4ccf68bb33",
   "metadata": {},
   "outputs": [],
   "source": [
    "parVelocityKMPH.stats() #all above"
   ]
  },
  {
   "cell_type": "code",
   "execution_count": null,
   "id": "c41b5171-f27d-4849-afb7-c56527993d32",
   "metadata": {},
   "outputs": [],
   "source": [
    "parVelocityKMPH.stats().asDict() #dictionary"
   ]
  },
  {
   "cell_type": "code",
   "execution_count": null,
   "id": "e9381b76-aec3-46bc-ad9c-88b6a394e2c1",
   "metadata": {},
   "outputs": [],
   "source": [
    "parVelocityKMPH.stats().mean() #to pick a specific metric"
   ]
  },
  {
   "cell_type": "markdown",
   "id": "5fcf22da-fb0e-4260-9eac-a93e2e9b1c78",
   "metadata": {},
   "source": [
    "# Ch.5"
   ]
  },
  {
   "cell_type": "markdown",
   "id": "6f68fdfe-def8-451e-b54a-f3f7d009d224",
   "metadata": {
    "tags": []
   },
   "source": [
    "## Create a Paired RDD"
   ]
  },
  {
   "cell_type": "code",
   "execution_count": 13,
   "id": "2f647f61-bae2-4ee0-afdd-e3dae25852ba",
   "metadata": {},
   "outputs": [
    {
     "data": {
      "text/plain": [
       "['b', 'd', 'm', 't', 'e', 'u']"
      ]
     },
     "execution_count": 13,
     "metadata": {},
     "output_type": "execute_result"
    }
   ],
   "source": [
    "#Create an RDD with Single Elements\n",
    "pythonList = ['b' , 'd', 'm', 't', 'e', 'u']\n",
    "RDD1 = sc.parallelize(pythonList,2)\n",
    "RDD1.collect()"
   ]
  },
  {
   "cell_type": "code",
   "execution_count": 14,
   "id": "e525ea86-bec8-47d6-9ea2-dadd930b205d",
   "metadata": {},
   "outputs": [],
   "source": [
    "#check for consonants\n",
    "def vowelCheckFunction(data) :\n",
    "    if data in ['a','e','i','o','u']:\n",
    "        return 1\n",
    "    else :\n",
    "        return 0"
   ]
  },
  {
   "cell_type": "code",
   "execution_count": 15,
   "id": "b77675f3-dd21-4115-87d6-3869e489d7d2",
   "metadata": {},
   "outputs": [
    {
     "data": {
      "text/plain": [
       "1"
      ]
     },
     "execution_count": 15,
     "metadata": {},
     "output_type": "execute_result"
    }
   ],
   "source": [
    "#check\n",
    "vowelCheckFunction(\"a\")"
   ]
  },
  {
   "cell_type": "code",
   "execution_count": 16,
   "id": "68b17d40-3f82-41f5-9de9-e9e8f9cdee42",
   "metadata": {},
   "outputs": [
    {
     "data": {
      "text/plain": [
       "[0, 0, 0, 0, 1, 1]"
      ]
     },
     "execution_count": 16,
     "metadata": {},
     "output_type": "execute_result"
    }
   ],
   "source": [
    "RDD1.map(vowelCheckFunction).collect()"
   ]
  },
  {
   "cell_type": "code",
   "execution_count": 17,
   "id": "1df9d1b8-df20-422c-ace3-f8b285537dc6",
   "metadata": {},
   "outputs": [
    {
     "data": {
      "text/plain": [
       "[('b', 0), ('d', 0), ('m', 0), ('t', 0), ('e', 1), ('u', 1)]"
      ]
     },
     "execution_count": 17,
     "metadata": {},
     "output_type": "execute_result"
    }
   ],
   "source": [
    "#paired RDD\n",
    "RDD2 = RDD1.map(lambda data : (data, vowelCheckFunction(data)))\n",
    "RDD2.collect()"
   ]
  },
  {
   "cell_type": "code",
   "execution_count": 18,
   "id": "07b3cb51-0730-42ff-a011-4f942c7f46fe",
   "metadata": {},
   "outputs": [
    {
     "data": {
      "text/plain": [
       "tuple"
      ]
     },
     "execution_count": 18,
     "metadata": {},
     "output_type": "execute_result"
    }
   ],
   "source": [
    "a=[1,2,3]\n",
    "b=[5,6,7]\n",
    "(a,b)\n",
    "type((a,b))"
   ]
  },
  {
   "cell_type": "code",
   "execution_count": 19,
   "id": "a1780793-73bf-499b-9f0c-76b7aa8d7f6b",
   "metadata": {},
   "outputs": [
    {
     "data": {
      "text/plain": [
       "['b', 'd', 'm', 't', 'e', 'u']"
      ]
     },
     "execution_count": 19,
     "metadata": {},
     "output_type": "execute_result"
    }
   ],
   "source": [
    "#Fetch Keys from a Paired RDD\n",
    "RDD2Keys = RDD2.keys()\n",
    "RDD2Keys.collect()"
   ]
  },
  {
   "cell_type": "code",
   "execution_count": null,
   "id": "87fb71ef-e684-46bf-a3ab-68c010030c82",
   "metadata": {},
   "outputs": [],
   "source": [
    "#Fetch Values from a Paired RDD\n",
    "RDD2Values = RDD2.values()\n",
    "RDD2Values.collect()"
   ]
  },
  {
   "cell_type": "markdown",
   "id": "a4be73cb-9fa6-4748-9e45-6574002c83d4",
   "metadata": {
    "tags": []
   },
   "source": [
    "## Aggregate Data"
   ]
  },
  {
   "cell_type": "code",
   "execution_count": null,
   "id": "b8a6a3c2-ca59-428b-b290-610d71bf652f",
   "metadata": {},
   "outputs": [],
   "source": [
    "filDataSingle = [['filamentA','100W',605],\n",
    "                 ['filamentB','100W',683],\n",
    "                 ['filamentB','100W',691],\n",
    "                 ['filamentB','200W',561],\n",
    "                 ['filamentA','200W',530],\n",
    "                 ['filamentA','100W',619],\n",
    "                 ['filamentB','100W',686],\n",
    "                 ['filamentB','200W',600],\n",
    "                 ['filamentB','100W',696],\n",
    "                 ['filamentA','200W',579],\n",
    "                 ['filamentA','200W',520],\n",
    "                 ['filamentA','100W',622],\n",
    "                 ['filamentA','100W',668],\n",
    "                 ['filamentB','200W',569],\n",
    "                 ['filamentB','200W',555],\n",
    "                 ['filamentA','200W',541]]"
   ]
  },
  {
   "cell_type": "code",
   "execution_count": null,
   "id": "a7e495c9-4afd-4848-8725-bd238bcc13a7",
   "metadata": {},
   "outputs": [],
   "source": [
    "filDataSingleRDD = sc.parallelize(filDataSingle,2)"
   ]
  },
  {
   "cell_type": "code",
   "execution_count": null,
   "id": "89c5c498-bec4-45a7-ab4e-cadfcd3e4f48",
   "metadata": {},
   "outputs": [],
   "source": [
    "#to calculate the mean lifetime of bulbs based on their filament type, start by creating a paired RDD:\n",
    "filDataPairedRDD1 = filDataSingleRDD.map(lambda x : (x[0], x[2]))\n",
    "filDataPairedRDD1.take(4)"
   ]
  },
  {
   "cell_type": "markdown",
   "id": "0d3ff542-56af-4408-a432-ab7013a07f17",
   "metadata": {},
   "source": [
    "#  <font color='red'>break</font>"
   ]
  },
  {
   "cell_type": "markdown",
   "id": "ae57004f-015a-4762-bdb7-9f166713b8f1",
   "metadata": {},
   "source": [
    "# Ch.8"
   ]
  },
  {
   "cell_type": "markdown",
   "id": "86a503b1-673c-40b9-abfc-cbdb5e9fc12a",
   "metadata": {},
   "source": [
    "# Dataframes"
   ]
  },
  {
   "cell_type": "markdown",
   "id": "0ea3edbf-116f-4934-9e5b-d12c405b54bf",
   "metadata": {},
   "source": [
    "## Create / Basic Calculations"
   ]
  },
  {
   "cell_type": "code",
   "execution_count": 20,
   "id": "c600e7f9-f398-4fd3-953b-122c4fb51183",
   "metadata": {},
   "outputs": [],
   "source": [
    "# nested list\n",
    "filamentData = [['filamentA','100W',605],\n",
    "                ['filamentB','100W',683],\n",
    "                ['filamentB','100W',691],\n",
    "                ['filamentB','200W',561],\n",
    "                ['filamentA','200W',530],\n",
    "                ['filamentA','100W',619],\n",
    "                ['filamentB','100W',686],\n",
    "                ['filamentB','200W',600],\n",
    "                ['filamentB','100W',696],\n",
    "                ['filamentA','200W',579],\n",
    "                ['filamentA','200W',520],\n",
    "                ['filamentA','100W',622],\n",
    "                ['filamentA','100W',668],\n",
    "                ['filamentB','200W',569],\n",
    "                ['filamentB','200W',555],\n",
    "                ['filamentA','200W',541]]\n",
    "\n",
    "# RDD\n",
    "filamentDataRDD = sc.parallelize(filamentData, 4)"
   ]
  },
  {
   "cell_type": "code",
   "execution_count": 21,
   "id": "67d50c2a-6997-4417-9620-156cebf51bff",
   "metadata": {},
   "outputs": [],
   "source": [
    "# create schema\n",
    "\n",
    "# define columns\n",
    "from pyspark.sql.types import *\n",
    "\n",
    "FilamentTypeColumn = StructField(\"FilamentType\",StringType(),True)\n",
    "BulbPowerColumn = StructField(\"BulbPower\",StringType(),True)\n",
    "LifeInHoursColumn = StructField(\"LifeInHours\",StringType(),True)"
   ]
  },
  {
   "cell_type": "code",
   "execution_count": 22,
   "id": "47b4406c-5f0e-4a41-ac82-7f5f55ddf61e",
   "metadata": {},
   "outputs": [
    {
     "data": {
      "text/plain": [
       "StructType(List(StructField(FilamentType,StringType,true),StructField(BulbPower,StringType,true),StructField(LifeInHours,StringType,true)))"
      ]
     },
     "execution_count": 22,
     "metadata": {},
     "output_type": "execute_result"
    }
   ],
   "source": [
    "FilamentDataFrameSchema = StructType([FilamentTypeColumn, BulbPowerColumn, LifeInHoursColumn])\n",
    "FilamentDataFrameSchema"
   ]
  },
  {
   "cell_type": "code",
   "execution_count": 23,
   "id": "6bba3728-931e-4f77-aa5c-7ea5ed2fa8a5",
   "metadata": {},
   "outputs": [
    {
     "data": {
      "text/plain": [
       "[<Row('filamentA', '100W', '605')>,\n",
       " <Row('filamentB', '100W', '683')>,\n",
       " <Row('filamentB', '100W', '691')>,\n",
       " <Row('filamentB', '200W', '561')>]"
      ]
     },
     "execution_count": 23,
     "metadata": {},
     "output_type": "execute_result"
    }
   ],
   "source": [
    "# Create an RDD of rows\n",
    "from pyspark.sql import Row\n",
    "filamentRDDofROWs = filamentDataRDD.map(lambda x:Row(str(x[0]), str(x[1]), str(x[2])))\n",
    "filamentRDDofROWs.take(4)"
   ]
  },
  {
   "cell_type": "code",
   "execution_count": 24,
   "id": "39b1fda0-1801-404d-9cf5-4301ba720ee2",
   "metadata": {},
   "outputs": [
    {
     "name": "stdout",
     "output_type": "stream",
     "text": [
      "+------------+---------+-----------+\n",
      "|FilamentType|BulbPower|LifeInHours|\n",
      "+------------+---------+-----------+\n",
      "|   filamentA|     100W|        605|\n",
      "|   filamentB|     100W|        683|\n",
      "|   filamentB|     100W|        691|\n",
      "|   filamentB|     200W|        561|\n",
      "+------------+---------+-----------+\n",
      "only showing top 4 rows\n",
      "\n"
     ]
    }
   ],
   "source": [
    "# Create the DataFrame from schema and RDD\n",
    "from pyspark.sql import SQLContext\n",
    "sqlContext = SQLContext(sc)\n",
    "filamentDataFrameRaw = sqlContext.createDataFrame(filamentRDDofROWs, FilamentDataFrameSchema)\n",
    "filamentDataFrameRaw.show(4)"
   ]
  },
  {
   "cell_type": "code",
   "execution_count": 55,
   "id": "129ff6e4-d11f-4393-806f-3fdf1354884a",
   "metadata": {},
   "outputs": [
    {
     "data": {
      "text/plain": [
       "16"
      ]
     },
     "execution_count": 55,
     "metadata": {},
     "output_type": "execute_result"
    }
   ],
   "source": [
    "filamentDataFrame.count()"
   ]
  },
  {
   "cell_type": "code",
   "execution_count": 48,
   "id": "b8806a44-c9f6-4655-8128-face65896e2c",
   "metadata": {},
   "outputs": [
    {
     "name": "stdout",
     "output_type": "stream",
     "text": [
      "root\n",
      " |-- FilamentType: string (nullable = true)\n",
      " |-- BulbPower: string (nullable = true)\n",
      " |-- LifeInHours: string (nullable = true)\n",
      "\n"
     ]
    }
   ],
   "source": [
    "filamentDataFrameRaw.printSchema()"
   ]
  },
  {
   "cell_type": "code",
   "execution_count": 49,
   "id": "33126cfe-6376-443c-b9bb-c508d404fefd",
   "metadata": {},
   "outputs": [
    {
     "name": "stdout",
     "output_type": "stream",
     "text": [
      "root\n",
      " |-- FilamentType: string (nullable = true)\n",
      " |-- BulbPower: string (nullable = true)\n",
      " |-- LifeInHours: float (nullable = true)\n",
      "\n"
     ]
    }
   ],
   "source": [
    "# Change the Data Type of a Column\n",
    "\n",
    "# The withColumn() function returns a DataFrame by adding a new column to it. But if that column is already in the DataFrame, \n",
    "# the withColumn() function will replace the existing column:\n",
    "filamentDataFrame = filamentDataFrameRaw.withColumn('LifeInHours',filamentDataFrameRaw.LifeInHours.cast(FloatType()))\n",
    "filamentDataFrame.printSchema()"
   ]
  },
  {
   "cell_type": "code",
   "execution_count": 43,
   "id": "14ebe044-eefe-4a48-8fd3-923fc6feeb69",
   "metadata": {},
   "outputs": [
    {
     "data": {
      "text/plain": [
       "['FilamentType', 'BulbPower', 'LifeInHours']"
      ]
     },
     "execution_count": 43,
     "metadata": {},
     "output_type": "execute_result"
    }
   ],
   "source": [
    "# column names\n",
    "filamentDataFrame.columns"
   ]
  },
  {
   "cell_type": "code",
   "execution_count": 57,
   "id": "26663654-3f97-4a9c-b76d-ba57f142bb26",
   "metadata": {},
   "outputs": [
    {
     "name": "stdout",
     "output_type": "stream",
     "text": [
      "+------------+---------+-----------+\n",
      "|FilamentType|BulbPower|LifeInHours|\n",
      "+------------+---------+-----------+\n",
      "|   filamentA|     100W|      605.0|\n",
      "|   filamentB|     100W|      683.0|\n",
      "|   filamentB|     100W|      691.0|\n",
      "|   filamentB|     200W|      561.0|\n",
      "|   filamentA|     200W|      530.0|\n",
      "|   filamentA|     100W|      619.0|\n",
      "|   filamentB|     100W|      686.0|\n",
      "|   filamentB|     200W|      600.0|\n",
      "|   filamentB|     100W|      696.0|\n",
      "|   filamentA|     200W|      579.0|\n",
      "|   filamentA|     200W|      520.0|\n",
      "|   filamentA|     100W|      622.0|\n",
      "|   filamentA|     100W|      668.0|\n",
      "|   filamentB|     200W|      569.0|\n",
      "|   filamentB|     200W|      555.0|\n",
      "|   filamentA|     200W|      541.0|\n",
      "+------------+---------+-----------+\n",
      "\n"
     ]
    }
   ],
   "source": [
    "# filtering\n",
    "wattlist=['100W','200W']\n",
    "filamentDataFrame100Watt = filamentDataFrame.filter(filamentDataFrame.BulbPower.isin(wattlist))\n",
    "filamentDataFrame100Watt.show()"
   ]
  },
  {
   "cell_type": "code",
   "execution_count": 28,
   "id": "0d536ed4-fefa-495d-b4aa-c9a83aee0072",
   "metadata": {},
   "outputs": [
    {
     "name": "stdout",
     "output_type": "stream",
     "text": [
      "+------------+---------+-----------+\n",
      "|FilamentType|BulbPower|LifeInHours|\n",
      "+------------+---------+-----------+\n",
      "|   filamentB|     100W|      683.0|\n",
      "|   filamentB|     100W|      691.0|\n",
      "|   filamentB|     100W|      686.0|\n",
      "|   filamentB|     100W|      696.0|\n",
      "|   filamentA|     100W|      668.0|\n",
      "+------------+---------+-----------+\n",
      "\n"
     ]
    }
   ],
   "source": [
    "# Selecting (filtering) Data\n",
    "filamentData100WGreater650 = filamentDataFrame.filter((filamentDataFrame.BulbPower == '100W') & (filamentDataFrame.LifeInHours > 650.0))\n",
    "filamentData100WGreater650.show()"
   ]
  },
  {
   "cell_type": "markdown",
   "id": "8f037679-cb17-44ba-85a6-000eeaab32ac",
   "metadata": {},
   "source": [
    "## Exploratory Data Analysis"
   ]
  },
  {
   "cell_type": "code",
   "execution_count": null,
   "id": "ba774164-1337-4fff-8e26-e8b1b072e339",
   "metadata": {},
   "outputs": [],
   "source": [
    "from pyspark.sql.types import *\n",
    "FilamentTypeColumn = StructField(\"FilamentType\",StringType(),True)\n",
    "BulbPowerColumn = StructField(\"BulbPower\",StringType(),True)\n",
    "LifeInHoursColumn = StructField(\"LifeInHours\",DoubleType(),True)"
   ]
  },
  {
   "cell_type": "code",
   "execution_count": null,
   "id": "c8c6663d-0cee-4994-9941-0ed0fd81167c",
   "metadata": {},
   "outputs": [],
   "source": [
    "FilamentDataFrameSchema = StructType([FilamentTypeColumn, BulbPowerColumn, LifeInHoursColumn])"
   ]
  },
  {
   "cell_type": "code",
   "execution_count": null,
   "id": "c3d9f165-3180-44f1-a843-586eacd454d6",
   "metadata": {},
   "outputs": [],
   "source": [
    "filamentDataFrame = spark.read.csv('filamentData.csv',header=True, sep =',', schema = FilamentDataFrameSchema)\n",
    "filamentDataFrame.show(10)"
   ]
  },
  {
   "cell_type": "code",
   "execution_count": null,
   "id": "c65a35de-d6f3-4514-8bd5-e11dd2e5d22c",
   "metadata": {},
   "outputs": [],
   "source": [
    "filamentDataFrame.printSchema()"
   ]
  },
  {
   "cell_type": "code",
   "execution_count": 50,
   "id": "fd0ecb54-208a-494d-bc26-ae26e20175c1",
   "metadata": {},
   "outputs": [
    {
     "name": "stdout",
     "output_type": "stream",
     "text": [
      "+-------+------------------+\n",
      "|summary|       LifeInHours|\n",
      "+-------+------------------+\n",
      "|  count|                16|\n",
      "|   mean|          607.8125|\n",
      "| stddev|61.116521225170096|\n",
      "|    min|             520.0|\n",
      "|    max|             696.0|\n",
      "+-------+------------------+\n",
      "\n"
     ]
    }
   ],
   "source": [
    "filamentDataFrame.select(\"LifeInHours\").describe().show()"
   ]
  },
  {
   "cell_type": "code",
   "execution_count": 51,
   "id": "60935b17-4554-47f2-a123-844ec3d21b91",
   "metadata": {},
   "outputs": [
    {
     "data": {
      "text/plain": [
       "8"
      ]
     },
     "execution_count": 51,
     "metadata": {},
     "output_type": "execute_result"
    }
   ],
   "source": [
    "# frequency of Distinct Values in the FilamentType Categorical Column\n",
    "filamentDataFrame.filter(filamentDataFrame.FilamentType == 'filamentA').count()"
   ]
  },
  {
   "cell_type": "code",
   "execution_count": null,
   "id": "3ff62a21-252b-42d3-99a8-c0c75b97143b",
   "metadata": {},
   "outputs": [],
   "source": [
    "# frequency of distinct values in combination of FilamentType and Bulbpower\n",
    "filamentDataFrame.filter((filamentDataFrame.FilamentType == 'filamentB') & (filamentDataFrame.BulbPower == '100W')).count()"
   ]
  },
  {
   "cell_type": "markdown",
   "id": "22601dac-5a51-4a5d-ae04-834343d7ab64",
   "metadata": {},
   "source": [
    "## Aggregation Operations"
   ]
  },
  {
   "cell_type": "code",
   "execution_count": 25,
   "id": "f90f8418-d45a-4840-b335-712cb2463b51",
   "metadata": {},
   "outputs": [
    {
     "name": "stdout",
     "output_type": "stream",
     "text": [
      "+---+----------------+------+---------+-------------+------------------+-----------------+-------------+-----+------+------------+------------+--------------+--------------+------+\n",
      "|age|       workclass|fnlwgt|education|education-num|    marital-status|       occupation| relationship| race|   sex|capital-gain|capital-loss|hours-per-week|native-country|income|\n",
      "+---+----------------+------+---------+-------------+------------------+-----------------+-------------+-----+------+------------+------------+--------------+--------------+------+\n",
      "| 39|       State-gov| 77516|Bachelors|           13|     Never-married|     Adm-clerical|Not-in-family|White|  Male|        2174|           0|            40| United-States| <=50K|\n",
      "| 50|Self-emp-not-inc| 83311|Bachelors|           13|Married-civ-spouse|  Exec-managerial|      Husband|White|  Male|           0|           0|            13| United-States| <=50K|\n",
      "| 38|         Private|215646|  HS-grad|            9|          Divorced|Handlers-cleaners|Not-in-family|White|  Male|           0|           0|            40| United-States| <=50K|\n",
      "| 53|         Private|234721|     11th|            7|Married-civ-spouse|Handlers-cleaners|      Husband|Black|  Male|           0|           0|            40| United-States| <=50K|\n",
      "| 28|         Private|338409|Bachelors|           13|Married-civ-spouse|   Prof-specialty|         Wife|Black|Female|           0|           0|            40|          Cuba| <=50K|\n",
      "+---+----------------+------+---------+-------------+------------------+-----------------+-------------+-----+------+------------+------------+--------------+--------------+------+\n",
      "only showing top 5 rows\n",
      "\n"
     ]
    }
   ],
   "source": [
    "censusDataFrame = spark.read.csv('adultData.csv',header=True, inferSchema = True)\n",
    "censusDataFrame.show(5)"
   ]
  },
  {
   "cell_type": "code",
   "execution_count": 26,
   "id": "df0a6bf3-af66-4f81-af0d-1595329de900",
   "metadata": {},
   "outputs": [
    {
     "name": "stdout",
     "output_type": "stream",
     "text": [
      "root\n",
      " |-- age: integer (nullable = true)\n",
      " |-- workclass: string (nullable = true)\n",
      " |-- fnlwgt: integer (nullable = true)\n",
      " |-- education: string (nullable = true)\n",
      " |-- education-num: integer (nullable = true)\n",
      " |-- marital-status: string (nullable = true)\n",
      " |-- occupation: string (nullable = true)\n",
      " |-- relationship: string (nullable = true)\n",
      " |-- race: string (nullable = true)\n",
      " |-- sex: string (nullable = true)\n",
      " |-- capital-gain: integer (nullable = true)\n",
      " |-- capital-loss: integer (nullable = true)\n",
      " |-- hours-per-week: integer (nullable = true)\n",
      " |-- native-country: string (nullable = true)\n",
      " |-- income: string (nullable = true)\n",
      "\n"
     ]
    }
   ],
   "source": [
    "censusDataFrame.printSchema()"
   ]
  },
  {
   "cell_type": "code",
   "execution_count": 27,
   "id": "f773bf98-b0c3-4cff-9263-e1d18b597b49",
   "metadata": {},
   "outputs": [
    {
     "data": {
      "text/plain": [
       "32561"
      ]
     },
     "execution_count": 27,
     "metadata": {},
     "output_type": "execute_result"
    }
   ],
   "source": [
    "# no. of records\n",
    "censusDataFrame.count()"
   ]
  },
  {
   "cell_type": "code",
   "execution_count": 28,
   "id": "1adee884-72a8-40fa-9b37-d686863413a4",
   "metadata": {},
   "outputs": [
    {
     "data": {
      "text/plain": [
       "['age',\n",
       " 'workclass',\n",
       " 'fnlwgt',\n",
       " 'education',\n",
       " 'education-num',\n",
       " 'marital-status',\n",
       " 'occupation',\n",
       " 'relationship',\n",
       " 'race',\n",
       " 'sex',\n",
       " 'capital-gain',\n",
       " 'capital-loss',\n",
       " 'hours-per-week',\n",
       " 'native-country',\n",
       " 'income']"
      ]
     },
     "execution_count": 28,
     "metadata": {},
     "output_type": "execute_result"
    }
   ],
   "source": [
    "censusDataFrame.columns"
   ]
  },
  {
   "cell_type": "code",
   "execution_count": 29,
   "id": "b19bc0e9-9a91-447a-8afe-99273fa00325",
   "metadata": {},
   "outputs": [
    {
     "data": {
      "text/plain": [
       "24720"
      ]
     },
     "execution_count": 29,
     "metadata": {},
     "output_type": "execute_result"
    }
   ],
   "source": [
    "# we've seen:\n",
    "censusDataFrame.filter((censusDataFrame.income=='>50K')).count()\n",
    "censusDataFrame.filter((censusDataFrame.income=='<=50K')).count()"
   ]
  },
  {
   "cell_type": "code",
   "execution_count": 30,
   "id": "c8bd7407-dece-45ef-a1b0-40c80f99cbf4",
   "metadata": {},
   "outputs": [
    {
     "name": "stdout",
     "output_type": "stream",
     "text": [
      "+------+-----+\n",
      "|income|count|\n",
      "+------+-----+\n",
      "| <=50K|24720|\n",
      "|  >50K| 7841|\n",
      "+------+-----+\n",
      "\n"
     ]
    }
   ],
   "source": [
    "# now we try:\n",
    "groupedByIncome = censusDataFrame.groupBy('income').count()\n",
    "groupedByIncome.show()"
   ]
  },
  {
   "cell_type": "code",
   "execution_count": 31,
   "id": "028b4773-f359-48bc-acdb-f0f8503933c8",
   "metadata": {},
   "outputs": [
    {
     "name": "stdout",
     "output_type": "stream",
     "text": [
      "+-------+------------------+\n",
      "|summary|               age|\n",
      "+-------+------------------+\n",
      "|  count|             32561|\n",
      "|   mean| 38.58164675532078|\n",
      "| stddev|13.640432553581356|\n",
      "|    min|                17|\n",
      "|    max|                90|\n",
      "+-------+------------------+\n",
      "\n"
     ]
    }
   ],
   "source": [
    "# summary stats\n",
    "censusDataFrame.describe('age').show()"
   ]
  },
  {
   "cell_type": "code",
   "execution_count": 32,
   "id": "8ed6f282-8850-45ca-b755-1c48f9a74f7c",
   "metadata": {},
   "outputs": [
    {
     "name": "stdout",
     "output_type": "stream",
     "text": [
      "+------+-----------------+\n",
      "|   sex|         avg(age)|\n",
      "+------+-----------------+\n",
      "|Female|36.85823043357163|\n",
      "|  Male|39.43354749885268|\n",
      "+------+-----------------+\n",
      "\n"
     ]
    }
   ],
   "source": [
    "#mean age by sex\n",
    "censusDataFrame.groupBy('sex').mean('age').show()"
   ]
  },
  {
   "cell_type": "code",
   "execution_count": 33,
   "id": "e9981bed-93fe-4ae1-a903-642608b5d1aa",
   "metadata": {},
   "outputs": [
    {
     "name": "stdout",
     "output_type": "stream",
     "text": [
      "+------+------+-----+\n",
      "|income|   sex|count|\n",
      "+------+------+-----+\n",
      "|  >50K|  Male| 6662|\n",
      "|  >50K|Female| 1179|\n",
      "| <=50K|  Male|15128|\n",
      "| <=50K|Female| 9592|\n",
      "+------+------+-----+\n",
      "\n"
     ]
    }
   ],
   "source": [
    "# Finding Out Whether High Salaries are More Frequent for Males or Females\n",
    "censusDataFrame.groupBy(['income', 'sex']).count().show()"
   ]
  },
  {
   "cell_type": "code",
   "execution_count": 34,
   "id": "1f844ef8-35ad-45e7-ad48-e3bba23b4196",
   "metadata": {},
   "outputs": [
    {
     "name": "stdout",
     "output_type": "stream",
     "text": [
      "+---------------+------+-----+\n",
      "|     occupation|income|count|\n",
      "+---------------+------+-----+\n",
      "|Exec-managerial|  >50K| 1968|\n",
      "| Prof-specialty|  >50K| 1859|\n",
      "|          Sales|  >50K|  983|\n",
      "|   Craft-repair|  >50K|  929|\n",
      "|   Adm-clerical|  >50K|  507|\n",
      "+---------------+------+-----+\n",
      "only showing top 5 rows\n",
      "\n"
     ]
    }
   ],
   "source": [
    "# Finding the Highest-Paid Job\n",
    "groupedByOccupationIncome = censusDataFrame.groupBy(['occupation','income'])\n",
    "groupedByOccupationIncome.count().sort(['income','count'], ascending= 0).show(5)"
   ]
  },
  {
   "cell_type": "markdown",
   "id": "baaccd1d-b07b-4f55-b0af-ab4792f7c240",
   "metadata": {},
   "source": [
    "***\n",
    "# <br> Backup"
   ]
  },
  {
   "cell_type": "code",
   "execution_count": null,
   "id": "f2773cb6-1040-4424-8027-e41cf4b00eec",
   "metadata": {},
   "outputs": [],
   "source": [
    "#from pyspark.sql import SparkSession\n",
    "#\n",
    "#spark=SparkSession.builder.master(\"local\").appName(\"Test Spark\").getOrCreate()\n",
    "#\n",
    "#sc=spark.sparkContext"
   ]
  },
  {
   "cell_type": "code",
   "execution_count": 10,
   "id": "2ee6b565-7ebe-4cb6-aa31-935615714087",
   "metadata": {},
   "outputs": [],
   "source": [
    "import pyspark.sql.functions as F"
   ]
  },
  {
   "cell_type": "code",
   "execution_count": 11,
   "id": "37085d96-211b-46c8-996c-75f5661a0321",
   "metadata": {},
   "outputs": [],
   "source": [
    "key = (F.col('id') % 3).alias('key')"
   ]
  },
  {
   "cell_type": "code",
   "execution_count": 12,
   "id": "44e66e57-9616-4699-9064-7eb3f26b8074",
   "metadata": {},
   "outputs": [],
   "source": [
    "value = (F.randn(42) + key*10).alias('value')"
   ]
  },
  {
   "cell_type": "code",
   "execution_count": 13,
   "id": "62707f98-d0e7-47cd-a76a-6bd221e40ace",
   "metadata": {},
   "outputs": [],
   "source": [
    "df = spark.range(0, 1000, 1, 1).select(key, value)"
   ]
  },
  {
   "cell_type": "code",
   "execution_count": 17,
   "id": "a9242ec1-b072-4992-8c5c-18be98cc7508",
   "metadata": {},
   "outputs": [
    {
     "name": "stdout",
     "output_type": "stream",
     "text": [
      "+---+--------------------+\n",
      "|key|               value|\n",
      "+---+--------------------+\n",
      "|  0|   2.384479054241165|\n",
      "|  1|  10.192093404129352|\n",
      "|  2|  20.733733653328656|\n",
      "|  0| -0.5224480195716871|\n",
      "|  1|  12.060084179317831|\n",
      "|  2|   20.20963383826634|\n",
      "|  0|  -0.548526047771831|\n",
      "|  1|  11.907968332171668|\n",
      "|  2|   19.58294134171013|\n",
      "|  0|  1.0872260173387922|\n",
      "|  1|  10.952245128862655|\n",
      "|  2|  20.851099321073143|\n",
      "|  0|-0.14118066384892058|\n",
      "|  1|  11.747713204892616|\n",
      "|  2|  20.101499268535783|\n",
      "|  0|  0.9645306446729486|\n",
      "|  1|  11.099625011136304|\n",
      "|  2|  19.121528921881442|\n",
      "|  0| -0.6581329650674823|\n",
      "|  1|   9.473145943186166|\n",
      "+---+--------------------+\n",
      "only showing top 20 rows\n",
      "\n"
     ]
    }
   ],
   "source": [
    "df.show()"
   ]
  },
  {
   "cell_type": "code",
   "execution_count": 15,
   "id": "ab525ca9-6ece-4f13-af2f-eb37d391a760",
   "metadata": {},
   "outputs": [
    {
     "ename": "AttributeError",
     "evalue": "module 'pyspark.sql.functions' has no attribute 'magic_percentile'",
     "output_type": "error",
     "traceback": [
      "\u001b[1;31m---------------------------------------------------------------------------\u001b[0m",
      "\u001b[1;31mAttributeError\u001b[0m                            Traceback (most recent call last)",
      "\u001b[1;32m~\\AppData\\Local\\Temp/ipykernel_14544/1339395570.py\u001b[0m in \u001b[0;36m<module>\u001b[1;34m\u001b[0m\n\u001b[0;32m      1\u001b[0m df.select(\n\u001b[0;32m      2\u001b[0m \u001b[1;33m\u001b[0m\u001b[0m\n\u001b[1;32m----> 3\u001b[1;33m     \u001b[0mF\u001b[0m\u001b[1;33m.\u001b[0m\u001b[0mmagic_percentile\u001b[0m\u001b[1;33m(\u001b[0m\u001b[1;34m\"value\"\u001b[0m\u001b[1;33m,\u001b[0m \u001b[1;33m[\u001b[0m\u001b[1;36m0.25\u001b[0m\u001b[1;33m,\u001b[0m \u001b[1;36m0.5\u001b[0m\u001b[1;33m,\u001b[0m \u001b[1;36m0.75\u001b[0m\u001b[1;33m]\u001b[0m\u001b[1;33m,\u001b[0m \u001b[1;36m1000000\u001b[0m\u001b[1;33m)\u001b[0m\u001b[1;33m.\u001b[0m\u001b[0malias\u001b[0m\u001b[1;33m(\u001b[0m\u001b[1;34m\"quantiles\"\u001b[0m\u001b[1;33m)\u001b[0m\u001b[1;33m\u001b[0m\u001b[1;33m\u001b[0m\u001b[0m\n\u001b[0m\u001b[0;32m      4\u001b[0m \u001b[1;33m\u001b[0m\u001b[0m\n\u001b[0;32m      5\u001b[0m ).printSchema()\n",
      "\u001b[1;31mAttributeError\u001b[0m: module 'pyspark.sql.functions' has no attribute 'magic_percentile'"
     ]
    }
   ],
   "source": [
    "df.select(\n",
    "\n",
    "    F.percentile_approx(\"value\", [0.25, 0.5, 0.75], 1000000).alias(\"quantiles\")\n",
    "\n",
    ").printSchema()"
   ]
  },
  {
   "cell_type": "code",
   "execution_count": null,
   "id": "9fd64f51-cc64-47a9-b7cc-a1d5ab0171bc",
   "metadata": {},
   "outputs": [],
   "source": []
  }
 ],
 "metadata": {
  "kernelspec": {
   "display_name": "Python 3 (ipykernel)",
   "language": "python",
   "name": "python3"
  },
  "language_info": {
   "codemirror_mode": {
    "name": "ipython",
    "version": 3
   },
   "file_extension": ".py",
   "mimetype": "text/x-python",
   "name": "python",
   "nbconvert_exporter": "python",
   "pygments_lexer": "ipython3",
   "version": "3.9.7"
  }
 },
 "nbformat": 4,
 "nbformat_minor": 5
}
